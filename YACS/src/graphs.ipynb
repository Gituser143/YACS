{
 "cells": [
  {
   "cell_type": "code",
   "execution_count": 91,
   "metadata": {},
   "outputs": [],
   "source": [
    "import matplotlib.pyplot as plt\n",
    "import pandas as pd\n",
    "import csv\n",
    "import seaborn as sns\n",
    "plt.style.use('fivethirtyeight')\n",
    "import numpy as np\n",
    "import datetime\n",
    "import re\n",
    "import time"
   ]
  },
  {
   "cell_type": "code",
   "execution_count": 92,
   "metadata": {},
   "outputs": [],
   "source": [
    "log_path = \"logs/SCHED_\"\n",
    "algos = [\"RR\", \"RANDOM\", \"LL\"]"
   ]
  },
  {
   "cell_type": "code",
   "execution_count": 93,
   "metadata": {},
   "outputs": [],
   "source": [
    "log_file = log_path + algos[0]"
   ]
  },
  {
   "cell_type": "code",
   "execution_count": 94,
   "metadata": {},
   "outputs": [],
   "source": [
    "master_log = log_file + \"/master.log\"\n",
    "worker_1_log = log_file + \"/worker_1.log\"\n",
    "worker_2_log = log_file + \"/worker_2.log\"\n",
    "worker_3_log = log_file + \"/worker_3.log\""
   ]
  },
  {
   "cell_type": "code",
   "execution_count": 95,
   "metadata": {},
   "outputs": [],
   "source": [
    "# Parsing jobs\n",
    "job_arrival_pattern = r\"\\[(.*)\\] Job arrived: (.*)\"\n",
    "job_ending_pattern = r\"\\[(.*)\\] Completed job: (.*)\"\n",
    "\n",
    "# Parsing tasks\n",
    "task_arrival_pattern = r\"\\[(.*)\\] Task arrived: (.*)\"\n",
    "task_ending_pattern = r\"\\[(.*)\\] Completed task: (.*)\""
   ]
  },
  {
   "cell_type": "code",
   "execution_count": 96,
   "metadata": {},
   "outputs": [],
   "source": [
    "def duration(start, end):\n",
    "    start = datetime.datetime.strptime(start, \"%Y-%m-%d %H:%M:%S.%f\")\n",
    "    end = datetime.datetime.strptime(end, \"%Y-%m-%d %H:%M:%S.%f\")\n",
    "    \n",
    "    duration = end - start\n",
    "    \n",
    "    elapsed = float((duration.days * 86400) + (duration.seconds * 1) + float(duration.microseconds / 1000) / 1000)\n",
    "    \n",
    "    return elapsed"
   ]
  },
  {
   "cell_type": "code",
   "execution_count": 97,
   "metadata": {},
   "outputs": [],
   "source": [
    "f = open(master_log, \"r\")\n",
    "lines = f.readlines()\n",
    "f.close()"
   ]
  },
  {
   "cell_type": "code",
   "execution_count": 98,
   "metadata": {},
   "outputs": [],
   "source": [
    "def compute_stats(lines, arrival_pattern, ending_pattern):\n",
    "    times = dict()\n",
    "    for line in lines:\n",
    "        start = re.match(arrival_pattern, line)\n",
    "        if start:\n",
    "            timestamp, Id = start.groups()\n",
    "            times[Id] = timestamp\n",
    "            continue\n",
    "\n",
    "        end = re.search(ending_pattern, line)\n",
    "        if end:\n",
    "            end_timestamp, Id = end.groups()\n",
    "            start_timestamp = times[Id]\n",
    "\n",
    "            time_duration = duration(start_timestamp, end_timestamp)\n",
    "\n",
    "            times[Id] = time_duration\n",
    "    times = pd.DataFrame(times.values(), columns=[\"durations\"])\n",
    "    mean = times[\"durations\"].mean()\n",
    "    median = times[\"durations\"].median()\n",
    "    \n",
    "    return mean, median"
   ]
  },
  {
   "cell_type": "code",
   "execution_count": 99,
   "metadata": {},
   "outputs": [
    {
     "name": "stdout",
     "output_type": "stream",
     "text": [
      "9.111984200000002 9.023033\n"
     ]
    }
   ],
   "source": [
    "job_mean, job_median = compute_stats(lines, job_arrival_pattern, job_ending_pattern)\n",
    "print(job_mean, job_median)"
   ]
  },
  {
   "cell_type": "code",
   "execution_count": 100,
   "metadata": {},
   "outputs": [],
   "source": [
    "f = open(worker_1_log, \"r\")\n",
    "lines1 = f.readlines()\n",
    "f.close()\n",
    "\n",
    "f = open(worker_2_log, \"r\")\n",
    "lines2 = f.readlines()\n",
    "f.close()\n",
    "\n",
    "f = open(worker_3_log, \"r\")\n",
    "lines3 = f.readlines()\n",
    "f.close()\n",
    "\n",
    "\n",
    "lines = lines1 + lines2 + lines3"
   ]
  },
  {
   "cell_type": "code",
   "execution_count": 101,
   "metadata": {},
   "outputs": [
    {
     "name": "stdout",
     "output_type": "stream",
     "text": [
      "3.672070733333333 4.0031285\n"
     ]
    }
   ],
   "source": [
    "task_mean, task_median = compute_stats(lines, task_arrival_pattern, task_ending_pattern)\n",
    "print(task_mean, task_median)"
   ]
  },
  {
   "cell_type": "code",
   "execution_count": 102,
   "metadata": {},
   "outputs": [],
   "source": [
    "f = open(master_log, \"r\")\n",
    "base_line = f.readline()\n",
    "f.close()\n",
    "\n",
    "base_match = re.match(job_arrival_pattern, base_line)\n",
    "if base_match:\n",
    "    base, _ = base_match.groups()"
   ]
  },
  {
   "cell_type": "code",
   "execution_count": 103,
   "metadata": {},
   "outputs": [],
   "source": [
    "f = open(worker_1_log, \"r\")\n",
    "lines = f.readlines()\n",
    "f.close()"
   ]
  },
  {
   "cell_type": "code",
   "execution_count": 162,
   "metadata": {},
   "outputs": [],
   "source": [
    "def get_plot_vals(lines, task_arrival_pattern, task_ending_pattern, base):\n",
    "    stats = []\n",
    "    for line in lines:\n",
    "        start_match = re.match(task_arrival_pattern, line)\n",
    "        if start_match:\n",
    "            start_time, _ = start_match.groups()\n",
    "            diff = duration(base, start_time)\n",
    "            stats.append([diff, 1])\n",
    "            continue\n",
    "\n",
    "        end_match = re.match(task_ending_pattern, line)\n",
    "        if end_match:\n",
    "            end_time, _ = end_match.groups()\n",
    "            diff = duration(base, end_time)\n",
    "            stats.append([diff, -1])\n",
    "            continue\n",
    "\n",
    "    x = [i[0] for i in stats]\n",
    "    y = [i[1] for i in stats]\n",
    "    y = [sum(y[:i]) for i in range(1, len(y)+1)]\n",
    "    return x, y"
   ]
  },
  {
   "cell_type": "code",
   "execution_count": 163,
   "metadata": {},
   "outputs": [],
   "source": [
    "x, y = get_plot_vals(lines, task_arrival_pattern, task_ending_pattern, base)\n",
    "plt.figure(figsize=(15, 10))\n",
    "plt.scatter(x, y)\n",
    "plt.show()"
   ]
  },
  {
   "cell_type": "code",
   "execution_count": 166,
   "metadata": {},
   "outputs": [
    {
     "data": {
      "image/png": "[encoded data removed]",
      "text/plain": [
       "<Figure size 1080x720 with 1 Axes>"
      ]
     },
     "metadata": {},
     "output_type": "display_data"
    }
   ],
   "source": []
  },
  {
   "cell_type": "code",
   "execution_count": 170,
   "metadata": {},
   "outputs": [
    {
     "data": {
      "image/png": "[encoded data removed]",
      "text/plain": [
       "<Figure size 1080x720 with 1 Axes>"
      ]
     },
     "metadata": {},
     "output_type": "display_data"
    }
   ],
   "source": [
    "x_bar = [i for i in range(len(x))]\n",
    "y_bar = y\n",
    "\n",
    "plt.figure(figsize=(15, 10))\n",
    "plt.bar(x_bar, y_bar)\n",
    "plt.show()"
   ]
  },
  {
   "cell_type": "code",
   "execution_count": 165,
   "metadata": {},
   "outputs": [
    {
     "data": {
      "text/plain": [
       "[0.006025,\n",
       " 0.027184,\n",
       " 1.010158,\n",
       " 2.015349,\n",
       " 2.015608,\n",
       " 4.01938,\n",
       " 4.020738,\n",
       " 4.033114,\n",
       " 4.034016,\n",
       " 5.013574,\n",
       " 5.014204,\n",
       " 6.019104,\n",
       " 6.019201,\n",
       " 6.020321,\n",
       " 6.020561,\n",
       " 8.017281,\n",
       " 8.018179,\n",
       " 8.025393,\n",
       " 8.026288,\n",
       " 8.038072,\n",
       " 8.039101,\n",
       " 9.023264,\n",
       " 9.02495,\n",
       " 10.024612,\n",
       " 10.025677,\n",
       " 11.029736,\n",
       " 11.030567,\n",
       " 12.020622,\n",
       " 12.021613,\n",
       " 12.043217,\n",
       " 12.044243,\n",
       " 13.028076,\n",
       " 13.028303,\n",
       " 13.029136,\n",
       " 15.034585,\n",
       " 15.065557,\n",
       " 16.024505,\n",
       " 16.032273,\n",
       " 16.047374,\n",
       " 17.026682,\n",
       " 18.067376,\n",
       " 20.029495]"
      ]
     },
     "execution_count": 165,
     "metadata": {},
     "output_type": "execute_result"
    }
   ],
   "source": [
    "x"
   ]
  },
  {
   "cell_type": "code",
   "execution_count": null,
   "metadata": {},
   "outputs": [],
   "source": []
  }
 ],
 "metadata": {
  "kernelspec": {
   "display_name": "Python 3",
   "language": "python",
   "name": "python3"
  },
  "language_info": {
   "codemirror_mode": {
    "name": "ipython",
    "version": 3
   },
   "file_extension": ".py",
   "mimetype": "text/x-python",
   "name": "python",
   "nbconvert_exporter": "python",
   "pygments_lexer": "ipython3",
   "version": "3.6.9"
  }
 },
 "nbformat": 4,
 "nbformat_minor": 2
}
