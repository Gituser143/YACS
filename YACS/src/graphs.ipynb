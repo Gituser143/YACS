{
 "cells": [
  {
   "cell_type": "code",
   "execution_count": 2,
   "metadata": {},
   "outputs": [
    {
     "ename": "ImportError",
     "evalue": "No module named seaborn",
     "output_type": "error",
     "traceback": [
      "\u001b[0;31m---------------------------------------------------------------------------\u001b[0m",
      "\u001b[0;31mImportError\u001b[0m                               Traceback (most recent call last)",
      "\u001b[0;32m<ipython-input-2-a19d698510ac>\u001b[0m in \u001b[0;36m<module>\u001b[0;34m()\u001b[0m\n\u001b[1;32m      2\u001b[0m \u001b[0;32mimport\u001b[0m \u001b[0mpandas\u001b[0m \u001b[0;32mas\u001b[0m \u001b[0mpd\u001b[0m\u001b[0;34m\u001b[0m\u001b[0m\n\u001b[1;32m      3\u001b[0m \u001b[0;32mimport\u001b[0m \u001b[0mcsv\u001b[0m\u001b[0;34m\u001b[0m\u001b[0m\n\u001b[0;32m----> 4\u001b[0;31m \u001b[0;32mimport\u001b[0m \u001b[0mseaborn\u001b[0m \u001b[0;32mas\u001b[0m \u001b[0msns\u001b[0m\u001b[0;34m\u001b[0m\u001b[0m\n\u001b[0m\u001b[1;32m      5\u001b[0m \u001b[0mplt\u001b[0m\u001b[0;34m.\u001b[0m\u001b[0mstyle\u001b[0m\u001b[0;34m.\u001b[0m\u001b[0muse\u001b[0m\u001b[0;34m(\u001b[0m\u001b[0;34m'fivethirtyeight'\u001b[0m\u001b[0;34m)\u001b[0m\u001b[0;34m\u001b[0m\u001b[0m\n\u001b[1;32m      6\u001b[0m \u001b[0;32mimport\u001b[0m \u001b[0mnumpy\u001b[0m \u001b[0;32mas\u001b[0m \u001b[0mnp\u001b[0m\u001b[0;34m\u001b[0m\u001b[0m\n",
      "\u001b[0;31mImportError\u001b[0m: No module named seaborn"
     ]
    }
   ],
   "source": [
    "import matplotlib.pyplot as plt\n",
    "import pandas as pd\n",
    "import csv\n",
    "import seaborn as sns\n",
    "plt.style.use('fivethirtyeight')\n",
    "import numpy as np\n",
    "import datetime\n",
    "import re\n",
    "import time"
   ]
  },
  {
   "cell_type": "code",
   "execution_count": 37,
   "metadata": {},
   "outputs": [],
   "source": [
    "task_start_pattern = r\"\\[(.*)\\] Started task: (.*) on worker: (.*)\"\n",
    "task_end_pattern = r\"\\[(.*)\\] Completed task: (.*) on worker: (.*)\"\n",
    "\n",
    "job_start_pattern = r\"\\[(.*)\\] Started job: (.*)\"\n",
    "job_end_pattern = r\"\\[(.*)\\] Completed job: (.*)\"\n",
    "\n",
    "filenames = [\"log_file_LL.txt\"]"
   ]
  },
  {
   "cell_type": "code",
   "execution_count": 38,
   "metadata": {},
   "outputs": [
    {
     "name": "stdout",
     "output_type": "stream",
     "text": [
      "Algorithm = LL\n",
      "Job: Mean = 5.037, Median = 5.037\n",
      "Task: Mean = 2.142875, Median = 2.033\n",
      "\n"
     ]
    }
   ],
   "source": [
    "for filename in filenames:\n",
    "\n",
    "    jobs = dict()\n",
    "    tasks = dict()\n",
    "    task_workers = dict()\n",
    "    num_of_tasks = dict()\n",
    "\n",
    "    with open(filename, \"r\") as f:\n",
    "        lines = f.readlines()\n",
    "        lines.sort()\n",
    "        for line in lines:\n",
    "            # Process job start times\n",
    "            job_start = re.match(job_start_pattern, line)\n",
    "            if job_start:\n",
    "                timestamp, job_id = job_start.groups()\n",
    "                jobs[job_id] = timestamp\n",
    "\n",
    "            # Process job end times and compute duration\n",
    "            job_end = re.match(job_end_pattern, line)\n",
    "            if job_end:\n",
    "                end, job_id = job_end.groups()\n",
    "                start = jobs[job_id]\n",
    "\n",
    "                startTime = datetime.datetime.strptime(start, \"%Y-%m-%d %H:%M:%S.%f\")\n",
    "\n",
    "                endTime = datetime.datetime.strptime(end, \"%Y-%m-%d %H:%M:%S.%f\")\n",
    "\n",
    "                duration = endTime - startTime\n",
    "\n",
    "                elapsed = (duration.days * 86400) + (duration.seconds * 1) + float(duration.microseconds / 1000)/1000\n",
    "\n",
    "                jobs[job_id] = float(elapsed)\n",
    "\n",
    "            # Process task start times\n",
    "            task_start = re.match(task_start_pattern, line)\n",
    "            if task_start:\n",
    "                timestamp, task_id, worker_id = task_start.groups()\n",
    "                tasks[task_id] = timestamp\n",
    "                if worker_id in task_workers:\n",
    "                    task_workers[worker_id].append(task_id)\n",
    "                    t = datetime.datetime.strptime(timestamp, \"%Y-%m-%d %H:%M:%S.%f\")\n",
    "                    num_of_tasks[worker_id].append((t, 1))\n",
    "                else:\n",
    "                    task_workers[worker_id] = [task_id]\n",
    "                    t = datetime.datetime.strptime(timestamp, \"%Y-%m-%d %H:%M:%S.%f\")\n",
    "                    num_of_tasks[worker_id] = [(t, 1)]\n",
    "\n",
    "\n",
    "\n",
    "            # Process task end times and compute duration\n",
    "            task_end = re.match(task_end_pattern, line)\n",
    "            if task_end:\n",
    "                end, task_id, worker_id = task_end.groups()\n",
    "                start = tasks[task_id]\n",
    "\n",
    "                startTime = datetime.datetime.strptime(start, \"%Y-%m-%d %H:%M:%S.%f\")\n",
    "                endTime = datetime.datetime.strptime(end, \"%Y-%m-%d %H:%M:%S.%f\")\n",
    "\n",
    "                duration = endTime - startTime\n",
    "\n",
    "                elapsed = (duration.days * 86400) + (duration.seconds * 1) + float(duration.microseconds / 1000)/1000\n",
    "\n",
    "                tasks[task_id] = float(elapsed)\n",
    "                \n",
    "                task_workers[worker_id].remove(task_id)\n",
    "                t = datetime.datetime.strptime(timestamp, \"%Y-%m-%d %H:%M:%S.%f\")\n",
    "                num_of_tasks[worker_id].append((t, -1))\n",
    "\n",
    "\n",
    "    jobs_df = pd.DataFrame(jobs.values(), columns=[\"jobs\"])\n",
    "    tasks_df = pd.DataFrame(tasks.values(), columns=[\"tasks\"])\n",
    "\n",
    "    mean_jobs = jobs_df[\"jobs\"].mean()\n",
    "    mean_tasks = tasks_df[\"tasks\"].mean()\n",
    "\n",
    "    median_jobs = jobs_df[\"jobs\"].median()\n",
    "    median_tasks = tasks_df[\"tasks\"].median()\n",
    "    \n",
    "    algo = filename.split(\"_\")[-1]\n",
    "    algo = algo.split(\".\")[0]\n",
    "    print(\"Algorithm = {algo}\".format(algo=algo))\n",
    "    print(\"Job: Mean = {mean}, Median = {median}\".format(mean=mean_jobs, median=median_jobs))\n",
    "    print(\"Task: Mean = {mean}, Median = {median}\\n\".format(mean=mean_tasks, median=median_tasks))\n",
    "    \n",
    "#     for key in num_of_tasks:\n",
    "#         print(key, num_of_tasks[key])\n",
    "#     print(\"\\n\")"
   ]
  },
  {
   "cell_type": "code",
   "execution_count": 77,
   "metadata": {},
   "outputs": [],
   "source": [
    "def convert(t1, t2):\n",
    "    duration = t1 - t2\n",
    "    elapsed = float((duration.days * 86400000 * 1000) + (duration.seconds * 1000 * 1000) + (duration.microseconds))\n",
    "    return elapsed"
   ]
  },
  {
   "cell_type": "code",
   "execution_count": 32,
   "metadata": {},
   "outputs": [],
   "source": [
    "# Graph for worker, Y-axis num tasks, X-axis is timestamp\n",
    "time_range = dict()\n",
    "tasks_time_range = dict()\n",
    "for worker_id in num_of_tasks:\n",
    "    worker = num_of_tasks[worker_id]\n",
    "    time_range[worker_id] = [convert_to_sec(worker[i+1][0], worker[i][0]) for i in range(len(worker) - 1)]\n",
    "    tasks_time_range[worker_id] = [worker[i][1] for i in range(len(worker) - 1)]"
   ]
  },
  {
   "cell_type": "code",
   "execution_count": 78,
   "metadata": {},
   "outputs": [],
   "source": [
    "time_stamps = dict()\n",
    "task_counts = dict()\n",
    "\n",
    "for worker_id in num_of_tasks:\n",
    "    worker = num_of_tasks[worker_id]\n",
    "    time_stamps[worker_id] = [i[0] for i in worker]\n",
    "    task_counts[worker_id] = [i[1] for i in worker]\n",
    "    task_counts[worker_id] = [sum(task_counts[worker_id][:i]) for i in range(1, len(task_counts[worker_id])+1)]"
   ]
  },
  {
   "cell_type": "code",
   "execution_count": 79,
   "metadata": {},
   "outputs": [
    {
     "data": {
      "text/plain": [
       "{'1': [1, 2, 1, 2, 1, 0], '2': [1, 2, 3, 2, 3, 2, 1, 0, 1, 0]}"
      ]
     },
     "execution_count": 79,
     "metadata": {},
     "output_type": "execute_result"
    }
   ],
   "source": [
    "task_counts"
   ]
  },
  {
   "cell_type": "code",
   "execution_count": 80,
   "metadata": {},
   "outputs": [
    {
     "data": {
      "text/plain": [
       "{'1': [1, 2, 1, 2, 1, 0], '2': [1, 2, 3, 2, 3, 2, 1, 0, 1, 0]}"
      ]
     },
     "execution_count": 80,
     "metadata": {},
     "output_type": "execute_result"
    }
   ],
   "source": [
    "task_counts"
   ]
  },
  {
   "cell_type": "code",
   "execution_count": 81,
   "metadata": {},
   "outputs": [],
   "source": [
    "base_match = re.match(job_start_pattern, lines[0])\n",
    "base = 0\n",
    "if base_match:\n",
    "    base, _ = base_match.groups()\n",
    "    base = datetime.datetime.strptime(base, \"%Y-%m-%d %H:%M:%S.%f\")\n",
    "for worker_id in num_of_tasks:\n",
    "    time_stamps[worker_id] = [convert(i, base) for i in time_stamps[worker_id]]"
   ]
  },
  {
   "cell_type": "code",
   "execution_count": 82,
   "metadata": {},
   "outputs": [
    {
     "data": {
      "text/plain": [
       "{'1': [343595.0, 343955.0, 343955.0, 2019205.0, 2019205.0, 2019205.0],\n",
       " '2': [253.0,\n",
       "  343394.0,\n",
       "  343774.0,\n",
       "  343955.0,\n",
       "  2018962.0,\n",
       "  2019205.0,\n",
       "  2019205.0,\n",
       "  2019205.0,\n",
       "  4348353.0,\n",
       "  4348353.0]}"
      ]
     },
     "execution_count": 82,
     "metadata": {},
     "output_type": "execute_result"
    }
   ],
   "source": [
    "time_stamps"
   ]
  },
  {
   "cell_type": "code",
   "execution_count": 83,
   "metadata": {},
   "outputs": [
    {
     "data": {
      "image/png": "[encoded data removed]",
      "text/plain": [
       "<Figure size 432x288 with 1 Axes>"
      ]
     },
     "metadata": {},
     "output_type": "display_data"
    },
    {
     "data": {
      "image/png": "[encoded data removed]",
      "text/plain": [
       "<Figure size 432x288 with 1 Axes>"
      ]
     },
     "metadata": {},
     "output_type": "display_data"
    }
   ],
   "source": [
    "for worker_id in num_of_tasks:\n",
    "    plt.plot(time_stamps[worker_id], task_counts[worker_id])\n",
    "    plt.show()"
   ]
  },
  {
   "cell_type": "code",
   "execution_count": null,
   "metadata": {},
   "outputs": [],
   "source": []
  }
 ],
 "metadata": {
  "kernelspec": {
   "display_name": "Python 3",
   "language": "python",
   "name": "python3"
  },
  "language_info": {
   "codemirror_mode": {
    "name": "ipython",
    "version": 2
   },
   "file_extension": ".py",
   "mimetype": "text/x-python",
   "name": "python",
   "nbconvert_exporter": "python",
   "pygments_lexer": "ipython2",
   "version": "2.7.17"
  }
 },
 "nbformat": 4,
 "nbformat_minor": 2
}
