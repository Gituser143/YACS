{
 "cells": [
  {
   "cell_type": "code",
   "execution_count": 28,
   "metadata": {},
   "outputs": [],
   "source": [
    "import matplotlib.pyplot as plt\n",
    "import pandas as pd\n",
    "import csv\n",
    "import seaborn as sns\n",
    "plt.style.use('fivethirtyeight')\n",
    "import numpy as np\n",
    "import datetime\n",
    "import re\n",
    "import time"
   ]
  },
  {
   "cell_type": "code",
   "execution_count": 18,
   "metadata": {},
   "outputs": [],
   "source": [
    "task_start_pattern = r\"\\[(.*)\\] Started task: (.*) on worker: (.*)\"\n",
    "task_end_pattern = r\"\\[(.*)\\] Completed task: (.*) on worker: (.*)\"\n",
    "\n",
    "job_start_pattern = r\"\\[(.*)\\] Started job: (.*)\"\n",
    "job_end_pattern = r\"\\[(.*)\\] Completed job: (.*)\"\n",
    "\n",
    "filenames = [\"log_file_LL.txt\", \"log_file_RR.txt\", \"log_file_RANDOM.txt\"]"
   ]
  },
  {
   "cell_type": "code",
   "execution_count": 29,
   "metadata": {},
   "outputs": [
    {
     "name": "stdout",
     "output_type": "stream",
     "text": [
      "Algorithm = LL\n",
      "Job: Mean = 9.01924, Median = 9.023\n",
      "Task: Mean = 3.67010333333, Median = 4.003\n",
      "\n",
      "Algorithm = RR\n",
      "Job: Mean = 9.0745, Median = 9.014\n",
      "Task: Mean = 3.66972333333, Median = 4.003\n",
      "\n",
      "Algorithm = RANDOM\n",
      "Job: Mean = 9.03162, Median = 9.0205\n",
      "Task: Mean = 3.67042666667, Median = 4.003\n",
      "\n"
     ]
    }
   ],
   "source": [
    "for filename in filenames:\n",
    "\n",
    "    jobs = dict()\n",
    "    tasks = dict()\n",
    "    task_workers = dict()\n",
    "    num_of_tasks = dict()\n",
    "\n",
    "    with open(filename, \"r\") as f:\n",
    "        lines = f.readlines()\n",
    "        lines.sort()\n",
    "        for line in lines:\n",
    "            # Process job start times\n",
    "            job_start = re.match(job_start_pattern, line)\n",
    "            if job_start:\n",
    "                timestamp, job_id = job_start.groups()\n",
    "                jobs[job_id] = timestamp\n",
    "\n",
    "            # Process job end times and compute duration\n",
    "            job_end = re.match(job_end_pattern, line)\n",
    "            if job_end:\n",
    "                end, job_id = job_end.groups()\n",
    "                start = jobs[job_id]\n",
    "\n",
    "                startTime = datetime.datetime.strptime(start, \"%Y-%m-%d %H:%M:%S.%f\")\n",
    "\n",
    "                endTime = datetime.datetime.strptime(end, \"%Y-%m-%d %H:%M:%S.%f\")\n",
    "\n",
    "                duration = endTime - startTime\n",
    "\n",
    "                elapsed = (duration.days * 86400) + (duration.seconds * 1) + float(duration.microseconds / 1000)/1000\n",
    "\n",
    "                jobs[job_id] = float(elapsed)\n",
    "\n",
    "            # Process task start times\n",
    "            task_start = re.match(task_start_pattern, line)\n",
    "            if task_start:\n",
    "                timestamp, task_id, worker_id = task_start.groups()\n",
    "                tasks[task_id] = timestamp\n",
    "                if worker_id in task_workers:\n",
    "                    task_workers[worker_id].append(task_id)\n",
    "                    t = datetime.datetime.strptime(timestamp, \"%Y-%m-%d %H:%M:%S.%f\")\n",
    "                    t = time.mktime(t.timetuple())\n",
    "                    num_of_tasks[worker_id].append((t, len(task_workers[worker_id])))\n",
    "                else:\n",
    "                    task_workers[worker_id] = [task_id]\n",
    "                    t = datetime.datetime.strptime(timestamp, \"%Y-%m-%d %H:%M:%S.%f\")\n",
    "                    t = time.mktime(t.timetuple())\n",
    "                    num_of_tasks[worker_id] = [(t, len(task_workers[worker_id]))]\n",
    "\n",
    "\n",
    "\n",
    "            # Process task end times and compute duration\n",
    "            task_end = re.match(task_end_pattern, line)\n",
    "            if task_end:\n",
    "                end, task_id, worker_id = task_end.groups()\n",
    "                start = tasks[task_id]\n",
    "\n",
    "                startTime = datetime.datetime.strptime(start, \"%Y-%m-%d %H:%M:%S.%f\")\n",
    "                endTime = datetime.datetime.strptime(end, \"%Y-%m-%d %H:%M:%S.%f\")\n",
    "\n",
    "                duration = endTime - startTime\n",
    "\n",
    "                elapsed = (duration.days * 86400) + (duration.seconds * 1) + float(duration.microseconds / 1000)/1000\n",
    "\n",
    "                tasks[task_id] = float(elapsed)\n",
    "                \n",
    "                task_workers[worker_id].remove(task_id)\n",
    "                t = datetime.datetime.strptime(timestamp, \"%Y-%m-%d %H:%M:%S.%f\")\n",
    "                t = time.mktime(t.timetuple())\n",
    "                num_of_tasks[worker_id].append((t, len(task_workers[worker_id])))\n",
    "\n",
    "\n",
    "    jobs_df = pd.DataFrame(jobs.values(), columns=[\"jobs\"])\n",
    "    tasks_df = pd.DataFrame(tasks.values(), columns=[\"tasks\"])\n",
    "\n",
    "    mean_jobs = jobs_df[\"jobs\"].mean()\n",
    "    mean_tasks = tasks_df[\"tasks\"].mean()\n",
    "\n",
    "    median_jobs = jobs_df[\"jobs\"].median()\n",
    "    median_tasks = tasks_df[\"tasks\"].median()\n",
    "    \n",
    "    algo = filename.split(\"_\")[-1]\n",
    "    algo = algo.split(\".\")[0]\n",
    "    print(\"Algorithm = {algo}\".format(algo=algo))\n",
    "    print(\"Job: Mean = {mean}, Median = {median}\".format(mean=mean_jobs, median=median_jobs))\n",
    "    print(\"Task: Mean = {mean}, Median = {median}\\n\".format(mean=mean_tasks, median=median_tasks))\n",
    "    \n",
    "#     for key in num_of_tasks:\n",
    "#         print(key, num_of_tasks[key])\n",
    "#     print(\"\\n\")"
   ]
  },
  {
   "cell_type": "code",
   "execution_count": 31,
   "metadata": {},
   "outputs": [],
   "source": [
    "# Graph for worker, Y-axis num tasks, X-axis is timestamp\n",
    "time_range = dict()\n",
    "tasks_time_range = dict()\n",
    "for worker_id in num_of_tasks:\n",
    "    worker = num_of_tasks[worker_id]\n",
    "    time_range[worker_id] = [worker[i+1][0] - worker[i][0] for i in range(len(worker) - 1)]\n",
    "    tasks_time_range[worker_id] = [worker[i][1] for i in range(len(worker) - 1)]"
   ]
  },
  {
   "cell_type": "code",
   "execution_count": 32,
   "metadata": {},
   "outputs": [
    {
     "name": "stdout",
     "output_type": "stream",
     "text": [
      "{'1': [0.0, 0.0, 1.0, 0.0, 2.0, 1.0, 0.0, 0.0, 0.0, 0.0, 1.0, 0.0, 0.0, 0.0, 1.0, 1.0, 0.0, 0.0, 1.0, 0.0, 0.0, 0.0, 0.0, 1.0, 0.0, 1.0, 0.0, 1.0, 0.0, 1.0, 0.0, 0.0, 1.0, 0.0, 0.0, 1.0, 0.0, 1.0, 0.0, 0.0, 1.0, 0.0, 0.0, 0.0, 1.0, 0.0, 1.0, 0.0, 0.0, 1.0, 0.0, 1.0, 0.0, 0.0, 1.0, 0.0, 0.0, 1.0, 0.0, 0.0, 0.0, 1.0, 0.0, 1.0, 1.0, 0.0, 0.0, 0.0, 0.0, 1.0, 0.0, 0.0, 2.0, 0.0, 0.0, 0.0, 0.0, 1.0, 0.0, 1.0, 0.0, 0.0, 1.0, 1.0, 0.0, 0.0, 0.0, 1.0, 0.0, 0.0, 0.0, 1.0, 1.0, 1.0, 0.0, 0.0, 0.0, 1.0, 0.0, 0.0, 1.0, 0.0, 1.0, 0.0, 0.0, 1.0, 0.0, 0.0, 1.0, 0.0, 0.0, 0.0, 1.0, 0.0, 1.0, 0.0, 0.0, 1.0, 0.0, 0.0, 0.0, 1.0, 1.0, 0.0, 1.0, 0.0, 0.0, 0.0, 0.0, 1.0, 0.0, 1.0, 1.0, 0.0, 0.0, 0.0, 1.0, 0.0, 0.0, 0.0, 2.0, 0.0, 0.0, 0.0, 1.0, 0.0, 0.0, 0.0, 1.0, 0.0, 1.0, 0.0, 1.0, 0.0, 0.0, 0.0, 0.0, 1.0, 1.0, 0.0, 1.0, 0.0, 0.0, 0.0, 0.0, 1.0, 0.0, 1.0, 1.0, 0.0, 0.0, 0.0, 1.0, 0.0, 0.0, 1.0, 0.0, 0.0, 1.0, 0.0, 1.0, 0.0, 1.0, 0.0, 0.0, 1.0, 0.0, 0.0, 0.0, 1.0, 1.0, 0.0, 1.0, 0.0, 0.0, 0.0, 0.0, 2.0, 0.0, 1.0, 0.0, 0.0, 0.0, 0.0, 0.0], '3': [1.0, 0.0, 3.0, 0.0, 0.0, 1.0, 0.0, 0.0, 1.0, 1.0, 1.0, 0.0, 1.0, 0.0, 1.0, 1.0, 0.0, 1.0, 0.0, 1.0, 1.0, 0.0, 1.0, 0.0, 1.0, 1.0, 2.0, 0.0, 0.0, 0.0, 1.0, 1.0, 1.0, 0.0, 0.0, 1.0, 1.0, 1.0, 0.0, 0.0, 1.0, 1.0, 0.0, 1.0, 1.0, 0.0, 1.0, 1.0, 0.0, 0.0, 1.0, 0.0, 2.0, 1.0, 0.0, 0.0, 0.0, 0.0, 2.0, 1.0, 0.0, 0.0, 0.0, 1.0, 2.0, 1.0, 0.0, 0.0, 0.0, 1.0, 2.0, 0.0, 0.0, 1.0, 0.0, 1.0, 1.0, 0.0, 1.0, 1.0, 0.0, 1.0, 0.0, 1.0, 0.0, 1.0, 1.0, 1.0, 0.0, 0.0, 0.0, 1.0, 1.0, 1.0, 0.0, 1.0, 0.0, 1.0, 1.0, 0.0, 1.0, 1.0, 0.0, 1.0, 0.0, 0.0, 2.0, 1.0, 0.0, 0.0, 0.0, 1.0, 2.0, 0.0, 0.0, 1.0, 0.0, 1.0, 0.0, 2.0, 0.0, 0.0, 1.0], '2': [0.0, 0.0, 0.0, 1.0, 0.0, 0.0, 2.0, 1.0, 0.0, 0.0, 0.0, 0.0, 0.0, 0.0, 1.0, 0.0, 0.0, 0.0, 0.0, 0.0, 2.0, 0.0, 1.0, 0.0, 0.0, 0.0, 0.0, 0.0, 0.0, 0.0, 1.0, 0.0, 0.0, 0.0, 1.0, 0.0, 1.0, 0.0, 1.0, 0.0, 0.0, 0.0, 0.0, 0.0, 0.0, 0.0, 1.0, 0.0, 0.0, 0.0, 2.0, 0.0, 0.0, 0.0, 1.0, 0.0, 0.0, 0.0, 0.0, 0.0, 0.0, 0.0, 1.0, 0.0, 1.0, 0.0, 1.0, 0.0, 1.0, 0.0, 0.0, 0.0, 0.0, 0.0, 0.0, 0.0, 1.0, 0.0, 0.0, 0.0, 2.0, 0.0, 0.0, 0.0, 1.0, 0.0, 0.0, 0.0, 0.0, 0.0, 1.0, 0.0, 0.0, 0.0, 2.0, 0.0, 0.0, 0.0, 0.0, 0.0, 0.0, 0.0, 1.0, 0.0, 0.0, 0.0, 1.0, 0.0, 1.0, 0.0, 1.0, 0.0, 0.0, 0.0, 0.0, 0.0, 0.0, 0.0, 1.0, 0.0, 1.0, 0.0, 0.0, 0.0, 1.0, 0.0, 0.0, 0.0, 1.0, 0.0, 0.0, 0.0, 1.0, 0.0, 1.0, 0.0, 0.0, 0.0, 0.0, 0.0, 1.0, 0.0, 0.0, 0.0, 1.0, 0.0, 1.0, 0.0, 0.0, 0.0, 1.0, 0.0, 0.0, 0.0, 1.0, 0.0, 0.0, 0.0, 1.0, 0.0, 0.0, 0.0, 1.0, 0.0, 1.0, 0.0, 0.0, 0.0, 0.0, 0.0, 1.0, 0.0, 1.0, 0.0, 0.0, 0.0, 0.0, 0.0, 2.0, 0.0, 0.0, 0.0, 0.0, 0.0, 0.0, 0.0, 1.0, 0.0, 1.0, 0.0, 0.0, 0.0, 1.0, 0.0, 1.0, 0.0, 0.0, 0.0, 0.0, 0.0, 1.0, 0.0, 1.0, 0.0, 0.0, 0.0, 1.0, 0.0, 0.0, 0.0, 1.0, 0.0, 0.0, 0.0, 1.0, 0.0, 1.0, 0.0, 0.0, 0.0, 0.0, 0.0, 1.0, 0.0, 0.0, 0.0, 1.0, 0.0, 1.0, 0.0, 0.0, 0.0, 1.0, 0.0, 0.0, 0.0, 0.0, 0.0, 1.0, 0.0, 1.0, 0.0, 0.0, 0.0, 1.0, 0.0, 0.0, 0.0, 1.0, 0.0, 0.0, 0.0, 1.0, 0.0, 0.0, 0.0, 1.0, 0.0, 0.0, 0.0, 1.0, 0.0, 0.0, 0.0, 0.0, 2.0, 0.0, 0.0, 1.0]}\n"
     ]
    }
   ],
   "source": [
    "print(time_range)"
   ]
  },
  {
   "cell_type": "code",
   "execution_count": null,
   "metadata": {},
   "outputs": [],
   "source": []
  }
 ],
 "metadata": {
  "kernelspec": {
   "display_name": "Python 3",
   "language": "python",
   "name": "python3"
  },
  "language_info": {
   "codemirror_mode": {
    "name": "ipython",
    "version": 2
   },
   "file_extension": ".py",
   "mimetype": "text/x-python",
   "name": "python",
   "nbconvert_exporter": "python",
   "pygments_lexer": "ipython2",
   "version": "2.7.17"
  }
 },
 "nbformat": 4,
 "nbformat_minor": 2
}
